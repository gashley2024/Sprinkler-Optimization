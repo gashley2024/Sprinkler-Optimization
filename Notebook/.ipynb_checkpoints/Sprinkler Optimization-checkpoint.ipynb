{
 "cells": [
  {
   "cell_type": "code",
   "execution_count": 4,
   "id": "a4ff60e5",
   "metadata": {},
   "outputs": [],
   "source": [
    "import pandas as pd\n",
    "import numpy as np\n",
    "from scipy.optimize import minimize\n",
    "from PIL import Image\n",
    "import matplotlib.pyplot as plt"
   ]
  },
  {
   "cell_type": "code",
   "execution_count": 3,
   "id": "4053dfa0",
   "metadata": {},
   "outputs": [
    {
     "name": "stdout",
     "output_type": "stream",
     "text": [
      "Optimized Sprinkler Positions: [ 0.68891533 11.83635267  2.8110847  16.36364735  1.         25.7\n",
      " 15.          4.5       ]\n"
     ]
    }
   ],
   "source": [
    "# Lawn dimensions (27.5833 x 21.75 feet)\n",
    "lawn_width = 27.5833\n",
    "lawn_height = 21.75\n",
    "dry_radius = 4.4167\n",
    "\n",
    "# Minimum distance between sprinklers\n",
    "min_distance = 5.0\n",
    "\n",
    "# Objective function to maximize: watered space (minimizing dry space)\n",
    "def total_wet_area(positions):\n",
    "    grid_x, grid_y = np.meshgrid(np.linspace(0, lawn_width, 100), np.linspace(0, lawn_height, 100))\n",
    "    dry_points = np.ones(grid_x.shape, dtype=bool)\n",
    "\n",
    "    for i in range(0, len(positions), 2):\n",
    "        x, y = positions[i], positions[i + 1]\n",
    "        distances = np.sqrt((grid_x - x)**2 + (grid_y - y)**2)\n",
    "        wet_area = distances <= dry_radius\n",
    "        dry_points = dry_points & ~wet_area\n",
    "\n",
    "    total_wet_space = np.prod(dry_points.shape) - np.sum(dry_points)\n",
    "    return -total_wet_space\n",
    "\n",
    "# Constraint: Each sprinkler must stay within the lawn's bounds\n",
    "def boundary_constraint(position):\n",
    "    x, y = position\n",
    "    return [\n",
    "        x,                      # Inside left boundary\n",
    "        lawn_width - x,          # Inside right boundary\n",
    "        y,                      # Inside bottom boundary\n",
    "        lawn_height - y          # Inside top boundary\n",
    "    ]\n",
    "\n",
    "# Minimum distance constraint between sprinklers\n",
    "def distance_constraint(positions):\n",
    "    num_sprinklers = len(positions) // 2\n",
    "    distances = []\n",
    "    for i in range(num_sprinklers):\n",
    "        for j in range(i + 1, num_sprinklers):\n",
    "            x1, y1 = positions[2 * i], positions[2 * i + 1]\n",
    "            x2, y2 = positions[2 * j], positions[2 * j + 1]\n",
    "            distance = np.sqrt((x1 - x2) ** 2 + (y1 - y2) ** 2)\n",
    "            distances.append(distance - min_distance)  # Ensure distance is greater than min_distance\n",
    "    return distances\n",
    "\n",
    "# Initial positions for the sprinklers\n",
    "initial_pos = [1, 12.5, 2.5, 15.7, 1, 25.7, 15, 4.5]\n",
    "\n",
    "# Set up the boundary constraints for all four sprinklers\n",
    "cons = [{'type': 'ineq', 'fun': lambda pos: boundary_constraint([pos[i], pos[i + 1]])} for i in range(0, len(initial_pos), 2)]\n",
    "cons.append({'type': 'ineq', 'fun': distance_constraint})  # Add distance constraint\n",
    "\n",
    "# Minimize the negative of the total wet area (i.e., maximize the wet area)\n",
    "result = minimize(total_wet_area, initial_pos, constraints=cons)\n",
    "\n",
    "# Optimized positions\n",
    "optimal_positions = result.x\n",
    "print(f\"Optimized Sprinkler Positions: {optimal_positions}\")"
   ]
  },
  {
   "cell_type": "code",
   "execution_count": 6,
   "id": "2d1af8a0",
   "metadata": {},
   "outputs": [],
   "source": [
    "# Load image\n",
    "image = Image.open(\"../Image/yard.png\")"
   ]
  },
  {
   "cell_type": "code",
   "execution_count": 8,
   "id": "761ff8be",
   "metadata": {},
   "outputs": [
    {
     "data": {
      "image/png": "[encoded data removed]",
      "text/plain": [
       "<Figure size 1000x1000 with 1 Axes>"
      ]
     },
     "metadata": {},
     "output_type": "display_data"
    }
   ],
   "source": [
    "fig, ax = plt.subplots(figsize=(10, 10))\n",
    "ax.imshow(np.array(image))\n",
    "\n",
    "# Lawn dimensions\n",
    "lawn_width = 27.5833\n",
    "lawn_height = 21.75\n",
    "\n",
    "# Set axis limits\n",
    "ax.set_xlim([0, lawn_width])\n",
    "ax.set_ylim([0, lawn_height])\n",
    "\n",
    "# Set axis ticks and labels\n",
    "ax.set_xticks([0, lawn_width])\n",
    "ax.set_yticks([0, lawn_height])\n",
    "ax.set_xticklabels(['0', f'{lawn_width:.2f}'])\n",
    "ax.set_yticklabels(['0', f'{lawn_height:.2f}'])\n",
    "\n",
    "# Display the chart\n",
    "plt.show()"
   ]
  }
 ],
 "metadata": {
  "kernelspec": {
   "display_name": "Python 3 (ipykernel)",
   "language": "python",
   "name": "python3"
  },
  "language_info": {
   "codemirror_mode": {
    "name": "ipython",
    "version": 3
   },
   "file_extension": ".py",
   "mimetype": "text/x-python",
   "name": "python",
   "nbconvert_exporter": "python",
   "pygments_lexer": "ipython3",
   "version": "3.11.4"
  }
 },
 "nbformat": 4,
 "nbformat_minor": 5
}
